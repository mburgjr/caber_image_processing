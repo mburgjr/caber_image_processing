{
 "cells": [
  {
   "cell_type": "code",
   "execution_count": 1,
   "id": "0f86d69c-d0c0-44c0-bf52-bab1632414ee",
   "metadata": {},
   "outputs": [],
   "source": [
    "import sys\n",
    "sys.path.append('../')\n",
    "import time\n",
    "import numpy as np\n",
    "\n",
    "from video import Video # In your own code, change to: \"from caber_image_processing import Video\""
   ]
  },
  {
   "cell_type": "code",
   "execution_count": 2,
   "id": "71f2c4af-914d-4b78-aea3-65665a0102ff",
   "metadata": {},
   "outputs": [],
   "source": [
    "# Try example video fit\n",
    "video_path = '../data/1wtp_2_7d7_6000fps_2.mp4'\n",
    "playback_fps = 30\n",
    "time_btwn_frames = 0.149*(10**(-3)) # in seconds\n",
    "crop_width = 6*(10**(-3)) # in meters\n",
    "vid = Video(video_path, playback_fps, poly_degree=4, pct_considered=0.4, time_btwn_frames=time_btwn_frames, width=crop_width, graph_title='Stock-PG0d4_2000fps_1.mp4')\n",
    "# vid.plot_radius() # Time in ms"
   ]
  },
  {
   "cell_type": "code",
   "execution_count": 3,
   "id": "ea25dce2-c9fd-4a0d-8171-8af430fc39c7",
   "metadata": {},
   "outputs": [
    {
     "name": "stdout",
     "output_type": "stream",
     "text": [
      "Compiling parameter guesses...\n",
      "Finished creating guesses.\n",
      "{'G': 90, 'gamma': 0.055, 'eta_S': 0.1, 'lamb': 0.1}\n",
      "Fitting equation to data...\n",
      "Finished fitting.\n",
      "{'G': 99.88967737165808, 'gamma': 0.055466396445193765, 'eta_S': 0.09641741675096609, 'lamb': 0.10024899649639278}\n"
     ]
    },
    {
     "data": {
      "image/png": "[encoded data removed]",
      "text/plain": [
       "<Figure size 432x288 with 1 Axes>"
      ]
     },
     "metadata": {
      "needs_background": "light"
     },
     "output_type": "display_data"
    }
   ],
   "source": [
    "# Fit to Oldroyd-B model\n",
    "parameter_ranges = {\n",
    "    'G': (1, 100),\n",
    "    'gamma': (1*10**(-3), 100*10**(-3)),\n",
    "    'eta_S': (0.001, 0.2),\n",
    "    'lamb': (0.001, 0.2)\n",
    "}\n",
    "parameter_guesses = {\n",
    "    'G': 90,\n",
    "    'gamma': 55*10**(-3),\n",
    "    'eta_S': 0.1,\n",
    "    'lamb': 0.1\n",
    "}\n",
    "initial_condition = np.array([0.003, 67, 0])\n",
    "pct_of_data_to_use = 0.25\n",
    "vid.fit('oldroyd_b', parameter_ranges, log_error=True, parameter_guesses=parameter_guesses, init_cond=initial_condition, \n",
    "        pct_data_considered=pct_of_data_to_use, time_start=0.04, time_end=0.115)\n",
    "print(vid.fit_parameters)\n",
    "vid.plot_fit(log=True)"
   ]
  },
  {
   "cell_type": "code",
   "execution_count": null,
   "id": "cd804cb7-e374-4940-9ea8-e874e598b372",
   "metadata": {},
   "outputs": [],
   "source": []
  }
 ],
 "metadata": {
  "kernelspec": {
   "display_name": "Python 3 (ipykernel)",
   "language": "python",
   "name": "python3"
  },
  "language_info": {
   "codemirror_mode": {
    "name": "ipython",
    "version": 3
   },
   "file_extension": ".py",
   "mimetype": "text/x-python",
   "name": "python",
   "nbconvert_exporter": "python",
   "pygments_lexer": "ipython3",
   "version": "3.9.7"
  }
 },
 "nbformat": 4,
 "nbformat_minor": 5
}
