{
 "cells": [
  {
   "cell_type": "markdown",
   "id": "9d7e7567-a95e-4827-8636-2e6bdc29ef8d",
   "metadata": {},
   "source": [
    "# CaBER Image Sequence Processing"
   ]
  },
  {
   "cell_type": "code",
   "execution_count": 2,
   "id": "44669e2f-0c41-48ca-b057-f9415171dc5e",
   "metadata": {},
   "outputs": [],
   "source": [
    "import sys\n",
    "sys.path.append('../')\n",
    "import time"
   ]
  },
  {
   "cell_type": "code",
   "execution_count": 3,
   "id": "05174226-4f3b-4bf4-a320-a84c2f3a5ba4",
   "metadata": {},
   "outputs": [],
   "source": [
    "from image_sequence import ImageSequence # In your own code, change to: \"from caber_image_processing import ImageSequence\""
   ]
  },
  {
   "cell_type": "markdown",
   "id": "983f2e58-9d2d-46b1-9371-da6ac1235c29",
   "metadata": {},
   "source": [
    "In this example script, the processing of multiple CaBER experiment images is shown. A single image can be processed to find the minimum radius at that time. Multiple images over the span of an experiment show the evolution of the minimum radius with time, which can be used to analyze the behavior of the fluid. To begin, designate a folder of sequenced images. These images must be named in numerical order with progressing time. A folder like this would be created if the frames are processed as a video."
   ]
  },
  {
   "cell_type": "code",
   "execution_count": 4,
   "id": "38a9625c-3591-4978-a7b4-ec0d6f2f456b",
   "metadata": {},
   "outputs": [],
   "source": [
    "# Set path to folder of images\n",
    "folder_path = '../data/sample_frames' # Must contain images in numerical order"
   ]
  },
  {
   "cell_type": "markdown",
   "id": "9455b695-e4aa-4442-a1b5-7fe32ceb06e0",
   "metadata": {},
   "source": [
    "A sequence of images is processed just like images would be separately. This means there are similar input/configuration parameters for an image sequence as their are for images. In this example we will explore just a few. Detailed explanation of other parameters can be found in the library's documentation.\n",
    "\n",
    "By default, the user will be prompted to crop their image to the exact width the fluid. The width of this crop should be provided in meters (all inputs should be in SI units). The degree of the polynomial edge approximation can also be changed but is defaulted to 4. To create this polynomial, only the middle 40% of the edge points is used. This percentage can be expanded too."
   ]
  },
  {
   "cell_type": "code",
   "execution_count": 5,
   "id": "9fab9186-a62a-41cf-ad51-b5ac882b5e60",
   "metadata": {},
   "outputs": [],
   "source": [
    "polynomial_degree = 4 # For edge approximation\n",
    "crop_width = 6*(10**(-3)) # Must be in meters (all inputs should be standard SI units)\n",
    "vertical_percentage_to_consider = 0.4 # Middle percentage of picture height to consider, should contain the necessary part of the fluid (where a minimum radius may be)"
   ]
  },
  {
   "cell_type": "markdown",
   "id": "23c34919-4f47-4067-964d-190dca85c92e",
   "metadata": {},
   "source": [
    "When the ImageSequence object is created, each frame is processed simultaneously to speed the process. In a matter of seconds, the minimum radius and other image attributes are extracted from every frame."
   ]
  },
  {
   "cell_type": "code",
   "execution_count": 7,
   "id": "192c0fcc-a955-4cc0-bd4e-e883ca3710ef",
   "metadata": {},
   "outputs": [
    {
     "name": "stdout",
     "output_type": "stream",
     "text": [
      "Analyzed 923 frames in 15.075139045715332 seconds\n"
     ]
    }
   ],
   "source": [
    "# Construct image sequence object and get radii\n",
    "start = time.time()\n",
    "image_seq = ImageSequence(folder_path, width=crop_width)\n",
    "end = time.time()\n",
    "print('Analyzed ' + str(len(image_seq.images)) + ' frames in ' + str(end - start) + ' seconds')"
   ]
  },
  {
   "cell_type": "code",
   "execution_count": 8,
   "id": "e54811af-e6e4-4882-a909-6b51bb5140e2",
   "metadata": {},
   "outputs": [
    {
     "data": {
      "image/png": "[encoded data removed]",
      "text/plain": [
       "<Figure size 432x288 with 1 Axes>"
      ]
     },
     "metadata": {
      "needs_background": "light"
     },
     "output_type": "display_data"
    }
   ],
   "source": [
    "# Plot data over time\n",
    "time_btwn_frames = 0.149*10**(-3) # In seconds\n",
    "image_seq.plot_radius(time_btwn_frames) # Time in seconds"
   ]
  },
  {
   "cell_type": "markdown",
   "id": "4d372169-0c2f-45ca-a5b0-864047c60fd4",
   "metadata": {},
   "source": [
    "As you can see, the radius decreases with time until reaching a breaking point where the radius is zero. This data can be fit to an equation to gain information about the behavior of the fluid. See the video_processing script for a walkthrough example of this process. The ImageSequence class has the same fit method as the Video class."
   ]
  }
 ],
 "metadata": {
  "kernelspec": {
   "display_name": "Python 3",
   "language": "python",
   "name": "python3"
  },
  "language_info": {
   "codemirror_mode": {
    "name": "ipython",
    "version": 3
   },
   "file_extension": ".py",
   "mimetype": "text/x-python",
   "name": "python",
   "nbconvert_exporter": "python",
   "pygments_lexer": "ipython3",
   "version": "3.8.8"
  }
 },
 "nbformat": 4,
 "nbformat_minor": 5
}
