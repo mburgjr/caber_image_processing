{
 "cells": [
  {
   "cell_type": "markdown",
   "id": "7b6f67a8-5212-4876-b8a9-68241fc04a4c",
   "metadata": {},
   "source": [
    "# CaBER Video Processing"
   ]
  },
  {
   "cell_type": "code",
   "execution_count": null,
   "id": "44669e2f-0c41-48ca-b057-f9415171dc5e",
   "metadata": {},
   "outputs": [],
   "source": [
    "import sys\n",
    "sys.path.append('../')\n",
    "import time\n",
    "import numpy as np"
   ]
  },
  {
   "cell_type": "code",
   "execution_count": null,
   "id": "9b830a40-06d3-4056-8539-126c80b78a95",
   "metadata": {},
   "outputs": [],
   "source": [
    "from video import Video # In your own code, change to: \"from caber_image_processing import Video\""
   ]
  },
  {
   "cell_type": "markdown",
   "id": "ee47fa70-5f21-43a7-91ee-8fbc39810039",
   "metadata": {},
   "source": [
    "In this example script, the processing of a video recorded CaBER experiment is shown. A video is processed just like an image sequence. When the Video object is created, a temporary folder of images is populated and frames are processed individually. The Video class is essentially a wrapper for the ImageSequence class. To begin, designate a path to the video which the user would like to analyze."
   ]
  },
  {
   "cell_type": "code",
   "execution_count": null,
   "id": "3ad5d645-30e6-4ed2-8c56-434d6d7b9400",
   "metadata": {},
   "outputs": [],
   "source": [
    "video_path = '../data/Stock-PG0d4_2000fps_1.mp4'"
   ]
  },
  {
   "cell_type": "markdown",
   "id": "6c5fcebb-8be1-445e-ae7a-58ebaebd2a43",
   "metadata": {},
   "source": [
    "Video objects have similar configuration parameters to the ImageSequence and Image classes. In this example we will explore just a few options. Detailed explanation of other parameters can be found in the library's documentation.\n",
    "\n",
    "The playback FPS must be supplied with the video path to properly extract frames. If the playback FPS is not the same as the time recorded between frames, time_btwn_frames must be supplied in seconds as well to correctly space out radius measurements in time. By default, the user will be prompted to crop their image to the exact width the fluid. The width of this crop should be provided in meters (all inputs should be in SI units). The degree of the polynomial edge approximation can also be changed but is defaulted to 4. To create this polynomial, only the middle 40% of the edge points is used. This percentage can be expanded too."
   ]
  },
  {
   "cell_type": "code",
   "execution_count": null,
   "id": "9b81eeeb-bace-4bf6-afd4-57c24159c734",
   "metadata": {},
   "outputs": [],
   "source": [
    "playback_fps = 30 # Standard frames per second\n",
    "time_btwn_frames = 0.149*(10**(-3)) # In seconds (different from 1/FPS because video plays back slower than it was recorded)\n",
    "crop_width = 6*(10**(-3)) # In meters\n",
    "polynomial_degree = 4 # For edge approximation\n",
    "vertical_percentage_to_consider = 0.4 # Middle percentage of picture height to consider, should contain the necessary part of the fluid (where a minimum radius may be)"
   ]
  },
  {
   "cell_type": "markdown",
   "id": "e5711803-0a8a-46bc-a5af-9da5768b3938",
   "metadata": {},
   "source": [
    "Crop window will show up on creation of Video object, select a window such to contain all the fluid. The horizontal width of the image should match the initial diameter of the fluid. This will be used in tandem with the crop_width parameter to convert between integer pixel width and real-world diameter in meters.\n",
    "\n",
    "Each frame of the video is processed simultaneously, each as a single image. This is done to speed processing down to a matter of seconds."
   ]
  },
  {
   "cell_type": "code",
   "execution_count": null,
   "id": "0ac636e4-fee7-460a-9cce-a137c17da6f3",
   "metadata": {},
   "outputs": [],
   "source": [
    "# Construct video object and get radii\n",
    "start = time.time()\n",
    "vid = Video(video_path, playback_fps, time_btwn_frames=time_btwn_frames, width=crop_width, poly_degree=polynomial_degree, pct_considered=vertical_percentage_to_consider, graph_title='Stock-PG0d4_2000fps_1.mp4')\n",
    "end = time.time()\n",
    "print('Analyzed ' + str(len(vid.images)) + ' frames in ' + str(end - start) + ' seconds')"
   ]
  },
  {
   "cell_type": "code",
   "execution_count": null,
   "id": "619adadc-ca05-4c02-81a9-6f223d89e9c7",
   "metadata": {},
   "outputs": [],
   "source": [
    "# Plot data over time\n",
    "vid.plot_radius()"
   ]
  },
  {
   "cell_type": "markdown",
   "id": "0dd72774-45d6-4ecb-b524-42b34197a778",
   "metadata": {},
   "source": [
    "As you can see, the radius decreases with time until reaching a breaking point where the radius is zero. This data can be fit to an equation to gain information about the behavior of the fluid. To begin, choose the time range over which the fit should be calculated. By default, if no start or end time is supplied, an equation will be fit over the entire range of the experiment. Here, the approximately linear middle portion is chosen to try and get an accurate fit."
   ]
  },
  {
   "cell_type": "code",
   "execution_count": null,
   "id": "59f26ec0-dbf0-4ca6-b4e8-6c803de2d72d",
   "metadata": {},
   "outputs": [],
   "source": [
    "time_start = 0.025 # Where to start the fit domain\n",
    "time_end = 0.25 # Where to end the fit domain"
   ]
  },
  {
   "cell_type": "markdown",
   "id": "0282aeed-8cba-4e7c-9976-4db8e60c6e7e",
   "metadata": {},
   "source": [
    "To fit, initial conditions are needed. Most notably, the radius at the start time must be found. If no start_time is provided, simply take the radius from the first frame (vid.radius[0]) as the initial radius."
   ]
  },
  {
   "cell_type": "code",
   "execution_count": null,
   "id": "15b7040d-36f9-489e-8458-106ffeffd776",
   "metadata": {},
   "outputs": [],
   "source": [
    "# Get initial radius in meters at time_start\n",
    "start_index = int(time_start / time_btwn_frames)\n",
    "R0 = vid.radius[start_index]"
   ]
  },
  {
   "cell_type": "markdown",
   "id": "7135c328-7f38-4f56-821d-afa16dacafd5",
   "metadata": {},
   "source": [
    "When fitting, an initial condition for all variables must be provided as a numpy array. The radius should be provided in the first index of this initial condition. It can be placed elsewhere, but in that case its location must be recorded with the parameter radius_index. As shown in the examples/bezier.ipynb example script, not all processed data will be used in fitting. This is done to speed the fitting process. The percent of the original dataset used can be changed with the pct_data_considered parameter. By default, fitting data is selected uniformly in time. The method of resizing can be changed to selection along arc length by setting resize_with_arc_length to true."
   ]
  },
  {
   "cell_type": "code",
   "execution_count": null,
   "id": "b5174019-1fed-4c3f-a803-225063ac8f4e",
   "metadata": {},
   "outputs": [],
   "source": [
    "initial_condition = np.array([R0, 0, 0]) # Initial value in state space of [dR/dt, d(sigma_zz)/dt, d(sigma_rr)/dt].\n",
    "pct_of_data_to_use = 0.25 # Cut the amount of data used down to increase speed. This is permissible because data has strong correlation as shown above\n",
    "resize_with_arc_length = False # Use Bezier curves to select which datapoints to keep, rather than a linear arc length method"
   ]
  },
  {
   "cell_type": "markdown",
   "id": "cbb00064-af09-4e52-9c77-a76f13188e5a",
   "metadata": {},
   "source": [
    "Every equation has different parameters. As a first guess, the standardly defined Oldroyd-B model is used. This equation has parameters listed as keys below. For each, provide a range of possible values to search across. Output fit parameters will lie within this range. Try to make the range as reasonably small as possible.\n",
    "\n",
    "Initial guesses for each parameter should be provided as a dictionary if the user has a good intuition for possible fit values. If no guesses are provided, the code will search across ranges at equidistant stations to minimize objective/error. If some guesses are provided, this search will only be performed for parameters without user-provided guesses. The number of stations (divisions of the range to search at) can be increased with the range_sections parameter. Larger range for the same number of stations increases the space between each. Furthermore, increasing the number of stations may drastically increase runtime. The best option is to provide educated guesses for each parameter to avoid this rough searching process."
   ]
  },
  {
   "cell_type": "code",
   "execution_count": null,
   "id": "1d128c97-9888-47a5-937c-7b165f51b8fd",
   "metadata": {},
   "outputs": [],
   "source": [
    "# Parameter ranges to vary fitting over\n",
    "parameter_ranges = {\n",
    "    'G': (1, 100), # Possible values of linear elastic modulus in SI units\n",
    "    'gamma': (0, 1), # Possible values of surface tension in SI units\n",
    "    'eta_S': (0.001, 5), # Possible values of shear viscosity in SI units\n",
    "    'lamb': (0.001, 1) # Possible values of relaxation time in SI units\n",
    "}"
   ]
  },
  {
   "cell_type": "markdown",
   "id": "f373aa0d-3208-4016-86b3-67aaaeea0219",
   "metadata": {},
   "source": [
    "New guesses and corresponding objectives are printed as iterative guessing proceeds. This can be turned off by setting the verbose flag to false. Fitting may take some time depending on configuration parameters and ranges."
   ]
  },
  {
   "cell_type": "code",
   "execution_count": null,
   "id": "4b15398c-dc7d-4fef-93ec-9bae31f3cc32",
   "metadata": {},
   "outputs": [],
   "source": [
    "# Fit to Oldroyd-B model and plot results\n",
    "vid.fit('oldroyd_b', parameter_ranges, parameter_guesses={}, init_cond=initial_condition, pct_data_considered=pct_of_data_to_use, resize_with_arc_length=resize_with_arc_length, time_start=time_start, time_end=time_end)\n",
    "start = time.time()\n",
    "vid.plot_fit(log=False, time_start=time_start, time_end=time_end) # Show plot of fit region alone\n",
    "end = time.time()\n",
    "print('Fit equation in ' + str(end - start) + ' seconds')"
   ]
  },
  {
   "cell_type": "markdown",
   "id": "85bdc61b-c178-4b77-89f8-3a52773f30b0",
   "metadata": {},
   "source": [
    "Above, the fit is displayed over the constricted fitting range. The time range which the plot is across can be changed when the plotting function is called. Below, this is done to show the fit in a more macroscopic context"
   ]
  },
  {
   "cell_type": "code",
   "execution_count": null,
   "id": "217fb22b-7a8e-4d7c-98cf-92691526342a",
   "metadata": {},
   "outputs": [],
   "source": [
    "# Plot over the entire video time range\n",
    "vid.plot_fit(log=False, time_start=0, time_end=0.35) # The plotting time range is independent of the fitting range."
   ]
  },
  {
   "cell_type": "markdown",
   "id": "c4b24814-d3df-4ae3-a6db-543f8fb7d100",
   "metadata": {},
   "source": [
    "Plotting can be done on a logarithmic scale too."
   ]
  },
  {
   "cell_type": "code",
   "execution_count": null,
   "id": "80b37a2c-4116-40a3-bf64-86cdb97cd822",
   "metadata": {},
   "outputs": [],
   "source": [
    "# Show plot on log scale (which is the default option)\n",
    "vid.plot_fit(log=True, time_start=time_start, time_end=time_end)"
   ]
  },
  {
   "cell_type": "markdown",
   "id": "51671281-8821-464d-b993-6387ef6c8819",
   "metadata": {},
   "source": [
    "Choosing the correct fitting equation is crucial. Here, the fit is clearly not perfect, Oldroyd-B may have not been the best choice for a model. Let's try a simple linear fit over the same time range instead.\n",
    "\n",
    "Note, now the names and ranges of parameters must change corresponding to the new equation choice. Also, since a linear fit is not a differential equation, the ode flag should be set to false."
   ]
  },
  {
   "cell_type": "code",
   "execution_count": null,
   "id": "78ebe0bc-4add-4dbc-9876-3792bbd8a68c",
   "metadata": {},
   "outputs": [],
   "source": [
    "p = {\n",
    "    'm': (-1, 0),\n",
    "    'b': (0, 0.002)\n",
    "}\n",
    "ode = False"
   ]
  },
  {
   "cell_type": "markdown",
   "id": "03cdcbeb-f590-4c22-ba86-61f6cf543f78",
   "metadata": {},
   "source": [
    "Since the linear portion of the graph can be easily visualized, educated guesses for each parameters can be provided too. This should speed the fitting process and avoid rough, inaccurate guessing over denoted ranges."
   ]
  },
  {
   "cell_type": "code",
   "execution_count": null,
   "id": "6c51df0c-6c05-4774-8818-40bb38af908e",
   "metadata": {},
   "outputs": [],
   "source": [
    "parameter_guesses = {\n",
    "    'm': -0.03,\n",
    "    'b': 0.001\n",
    "}"
   ]
  },
  {
   "cell_type": "code",
   "execution_count": null,
   "id": "6ce276a9-f96f-4788-9503-beaa659478b9",
   "metadata": {},
   "outputs": [],
   "source": [
    "vid.fit('linear', p, ode=ode, parameter_guesses=parameter_guesses, pct_data_considered=pct_of_data_to_use, resize_with_arc_length=resize_with_arc_length, time_start=time_start, time_end=time_end)\n",
    "vid.plot_fit(log=False, time_start=time_start, time_end=time_end)"
   ]
  },
  {
   "cell_type": "markdown",
   "id": "560a26c8-7d4c-4609-bd4f-0beca9a05c12",
   "metadata": {},
   "source": [
    "The linear fit looks pretty good! We are likely done here.\n",
    "\n",
    "If none of the standardly-defined equations fit well, a custom equation can be provided. This equation must match the format of standardly-defined equations as shown below. Arguments must be time, y-value, and individual input parameters. Y-value should be a numpy array containing radius at location radius_index (which is defaulted to 0, or first). The output of the function should be the derivative of the y-value according to the equation. If the equation is not a differential equation, set ode to false."
   ]
  },
  {
   "cell_type": "code",
   "execution_count": null,
   "id": "b53f9a0d-b8fb-4ec1-863a-a8613c8ca844",
   "metadata": {},
   "outputs": [],
   "source": [
    "def mass_dashpot(t, y, k, b):\n",
    "    # Models the equation: y'' + by' + ky = 0\n",
    "    # Where k is spring constant, b is friction coefficient\n",
    "    y_val = y[0]\n",
    "    dydt_val = y[1]\n",
    "    output = np.array([dydt_val, -k*y_val - b*dydt_val])\n",
    "    return output"
   ]
  },
  {
   "cell_type": "markdown",
   "id": "db2e1106-23ad-4c38-8fcb-fdf16cdd44a7",
   "metadata": {},
   "source": [
    "The name of argument parameters must also be recorded in the same order they are supplied to the function used the equations_args parameter. Ranges, initial condition, and possible guesses should be defined just as they would be with a standardly-defined function."
   ]
  },
  {
   "cell_type": "code",
   "execution_count": null,
   "id": "71b26f03-977d-4e2b-920d-0c36f73eeead",
   "metadata": {},
   "outputs": [],
   "source": [
    "equation_args = ['k', 'b']\n",
    "parameter_ranges = {\n",
    "    'k': (0, 100),\n",
    "    'b': (0, 25)\n",
    "}\n",
    "initial_condition = np.array([R0, 0])"
   ]
  },
  {
   "cell_type": "code",
   "execution_count": null,
   "id": "2c51964c-afce-4304-afc8-440ea2080ccb",
   "metadata": {},
   "outputs": [],
   "source": [
    "vid.fit(mass_dashpot, parameter_ranges, equation_args=equation_args, ode=True, parameter_guesses={}, init_cond=initial_condition, pct_data_considered=pct_of_data_to_use, resize_with_arc_length=resize_with_arc_length, time_start=time_start, time_end=time_end)\n",
    "vid.plot_fit(log=False, time_start=0, time_end=0.35)"
   ]
  },
  {
   "cell_type": "markdown",
   "id": "bda53089-be61-4347-923b-17208b677570",
   "metadata": {},
   "source": [
    "This is not the best fit, but demonstrates how to provide a custom equation!"
   ]
  }
 ],
 "metadata": {
  "kernelspec": {
   "display_name": "Python 3 (ipykernel)",
   "language": "python",
   "name": "python3"
  },
  "language_info": {
   "codemirror_mode": {
    "name": "ipython",
    "version": 3
   },
   "file_extension": ".py",
   "mimetype": "text/x-python",
   "name": "python",
   "nbconvert_exporter": "python",
   "pygments_lexer": "ipython3",
   "version": "3.9.7"
  }
 },
 "nbformat": 4,
 "nbformat_minor": 5
}
